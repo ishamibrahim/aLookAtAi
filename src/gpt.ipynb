{
 "cells": [
  {
   "cell_type": "code",
   "id": "29e66245-67c5-49db-901a-841ddbdc5077",
   "metadata": {
    "ExecuteTime": {
     "end_time": "2025-09-01T13:45:09.856905Z",
     "start_time": "2025-09-01T13:45:09.560348Z"
    }
   },
   "source": [
    "from config import OPENAI_KEY\n",
    "from openai import OpenAI\n",
    "import dotenv\n",
    "dotenv.load_dotenv()"
   ],
   "outputs": [
    {
     "data": {
      "text/plain": [
       "True"
      ]
     },
     "execution_count": 2,
     "metadata": {},
     "output_type": "execute_result"
    }
   ],
   "execution_count": 2
  },
  {
   "cell_type": "code",
   "id": "e316046c-3a78-4b46-9ff0-56747dd24505",
   "metadata": {
    "ExecuteTime": {
     "end_time": "2025-09-01T13:45:10.408072Z",
     "start_time": "2025-09-01T13:45:10.399058Z"
    }
   },
   "source": [
    "import os\n",
    "client = OpenAI(api_key=os.getenv(\"OPENAI_KEY\"))"
   ],
   "outputs": [],
   "execution_count": 3
  },
  {
   "cell_type": "code",
   "id": "53eb2722-a896-437f-a158-6d7275d0d746",
   "metadata": {
    "ExecuteTime": {
     "end_time": "2025-09-01T13:45:11.271760Z",
     "start_time": "2025-09-01T13:45:11.267478Z"
    }
   },
   "source": [
    "# This is the new variant of gpt models, the communication is chat based.i.e questions/prompt and responses\n",
    "def generate_text_with_chat(prompt):\n",
    "    resp = client.chat.completions.create(\n",
    "        model = 'gpt-4.1-nano',\n",
    "        messages = [\n",
    "            {\n",
    "                \"role\": 'system',\n",
    "                'content': [\n",
    "                    {\"type\": \"text\", \"text\": 'you will be provided text and your responsible to fetch any personal identifiable content.'}\n",
    "                ]\n",
    "                \n",
    "            },\n",
    "            {\n",
    "                'role': 'user',\n",
    "                'content': [\n",
    "                    {\"type\": \"text\", \"text\": \"Mary went to Joyland school with a little lamb named blackie following her\"}\n",
    "                ],\n",
    "            },\n",
    "            {\n",
    "                \"role\": 'assistant',\n",
    "                'content': [\n",
    "                    {\"type\": \"text\", \"text\": 'Mary is a girl, Joyland school is a place, blackie is the name of a sheep'}\n",
    "                ]\n",
    "                \n",
    "            },\n",
    "            {\n",
    "                'role': 'user',\n",
    "                'content': [\n",
    "                    {\"type\": \"text\", \"text\": prompt}\n",
    "                ],\n",
    "            },\n",
    "        ],\n",
    "        temperature=0.1,\n",
    "        max_tokens=60,\n",
    "    )\n",
    "    return resp"
   ],
   "outputs": [],
   "execution_count": 4
  },
  {
   "metadata": {
    "ExecuteTime": {
     "end_time": "2025-09-01T13:45:12.672334Z",
     "start_time": "2025-09-01T13:45:12.669627Z"
    }
   },
   "cell_type": "code",
   "source": [
    "# Older style of gpt models, this is more like a sentence completion and not a chat based communication\n",
    "def generate_text(prompt):\n",
    "    resp = client.completions.create(\n",
    "        model='davinci-002',\n",
    "        prompt=prompt,\n",
    "        max_tokens=90, # Based on the tokens setup, tokens will be used and the response's length will vary, proportionally (Ex: 55)\n",
    "        temperature=0. # This means how random answers can be, means not random and 1 means very random (Ex: 0.4)\n",
    "    )\n",
    "    return resp"
   ],
   "id": "bb5e33ddceb87fe3",
   "outputs": [],
   "execution_count": 5
  },
  {
   "metadata": {
    "ExecuteTime": {
     "end_time": "2025-09-01T11:29:40.517993Z",
     "start_time": "2025-09-01T11:29:37.828555Z"
    }
   },
   "cell_type": "code",
   "source": [
    "generated_text = generate_text('how do satellites maintain orientation?')\n",
    "print(generated_text.choices[0].text)"
   ],
   "id": "251bc77a534151f7",
   "outputs": [
    {
     "name": "stdout",
     "output_type": "stream",
     "text": [
      " \n",
      "- How to deal with a nosy fellow graduate student? \n",
      "- How can I explain to my son why sunlight will hurt his eyes? \n",
      "- Why does hot air rise in a column instead of cold air pressing down? \n",
      "- How to objectively counter \"You are the first one to complain about that.\"? \n",
      "- What is the shape of the focal plane? \n",
      "- How to print \"Spring\" if in month is in Jan-J\n"
     ]
    }
   ],
   "execution_count": 62
  },
  {
   "metadata": {
    "ExecuteTime": {
     "end_time": "2025-09-01T13:45:16.482613Z",
     "start_time": "2025-09-01T13:45:14.730942Z"
    }
   },
   "cell_type": "code",
   "source": [
    "generated_text = generate_text_with_chat('Mr. Banks was hospitalized in Fredo-clinic on Friday last week due to conjunctivitis')\n",
    "print(generated_text.choices[0].message.content)\n"
   ],
   "id": "bb57ed1f70d380d0",
   "outputs": [
    {
     "name": "stdout",
     "output_type": "stream",
     "text": [
      "Mr. Banks is a person, Fredo clinic is a healthcare facility, and Friday last week is a date reference.\n"
     ]
    }
   ],
   "execution_count": 6
  },
  {
   "metadata": {},
   "cell_type": "code",
   "outputs": [],
   "execution_count": null,
   "source": "",
   "id": "cab3a62e574d88b6"
  }
 ],
 "metadata": {
  "kernelspec": {
   "display_name": "Python 3 (ipykernel)",
   "language": "python",
   "name": "python3"
  },
  "language_info": {
   "codemirror_mode": {
    "name": "ipython",
    "version": 3
   },
   "file_extension": ".py",
   "mimetype": "text/x-python",
   "name": "python",
   "nbconvert_exporter": "python",
   "pygments_lexer": "ipython3",
   "version": "3.10.14"
  }
 },
 "nbformat": 4,
 "nbformat_minor": 5
}
