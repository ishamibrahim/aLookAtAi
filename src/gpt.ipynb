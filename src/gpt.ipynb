{
 "cells": [
  {
   "metadata": {},
   "cell_type": "markdown",
   "source": "### Generative Pre-Trained Transformer (GPT) - using OpenAI",
   "id": "a5cc35b117722080"
  },
  {
   "cell_type": "code",
   "id": "29e66245-67c5-49db-901a-841ddbdc5077",
   "metadata": {
    "ExecuteTime": {
     "end_time": "2025-09-04T07:31:45.903764Z",
     "start_time": "2025-09-04T07:31:45.604967Z"
    }
   },
   "source": [
    "from config import OPENAI_KEY\n",
    "# GPT models are interacted using OpenAI library\n",
    "from openai import OpenAI\n",
    "import dotenv\n",
    "dotenv.load_dotenv()"
   ],
   "outputs": [
    {
     "data": {
      "text/plain": [
       "True"
      ]
     },
     "execution_count": 1,
     "metadata": {},
     "output_type": "execute_result"
    }
   ],
   "execution_count": 1
  },
  {
   "cell_type": "code",
   "id": "e316046c-3a78-4b46-9ff0-56747dd24505",
   "metadata": {
    "ExecuteTime": {
     "end_time": "2025-09-02T06:05:05.954792Z",
     "start_time": "2025-09-02T06:05:05.945286Z"
    }
   },
   "source": [
    "import os\n",
    "client = OpenAI(api_key=os.getenv(\"OPENAI_API_KEY\"))"
   ],
   "outputs": [],
   "execution_count": 2
  },
  {
   "cell_type": "code",
   "id": "53eb2722-a896-437f-a158-6d7275d0d746",
   "metadata": {
    "ExecuteTime": {
     "end_time": "2025-09-02T06:25:01.382651Z",
     "start_time": "2025-09-02T06:25:01.378783Z"
    }
   },
   "source": [
    "# This is the new variant of gpt models, the communication is chat based.i.e questions/prompt and responses\n",
    "def generate_text_with_chat(prompt):\n",
    "    resp = client.chat.completions.create(\n",
    "        model = 'gpt-4.1-nano',\n",
    "        messages = [\n",
    "            {\n",
    "                \"role\": 'system',\n",
    "                'content': [\n",
    "                    {\"type\": \"text\", \"text\": 'you are giving a standard lecture to high school students'}\n",
    "                ]\n",
    "                \n",
    "            },\n",
    "            # {\n",
    "            #     'role': 'user',\n",
    "            #     'content': [\n",
    "            #         {\"type\": \"text\", \"text\": \"Mary went to Joyland school with a little lamb named blackie following her\"}\n",
    "            #     ],\n",
    "            # },\n",
    "            # {\n",
    "            #     \"role\": 'assistant',\n",
    "            #     'content': [\n",
    "            #         {\"type\": \"text\", \"text\": 'Mary is a girl, Joyland school is a place, blackie is the name of a sheep'}\n",
    "            #     ]\n",
    "            #     \n",
    "            # },\n",
    "            {\n",
    "                'role': 'user',\n",
    "                'content': [\n",
    "                    {\"type\": \"text\", \"text\": prompt}\n",
    "                ],\n",
    "            },\n",
    "        ],\n",
    "        temperature=0.1,\n",
    "        max_tokens=60,\n",
    "    )\n",
    "    return resp"
   ],
   "outputs": [],
   "execution_count": 19
  },
  {
   "metadata": {
    "ExecuteTime": {
     "end_time": "2025-09-01T13:45:12.672334Z",
     "start_time": "2025-09-01T13:45:12.669627Z"
    }
   },
   "cell_type": "code",
   "source": [
    "# Older style of gpt models, this is more like a sentence completion and not a chat based communication\n",
    "def generate_text(prompt):\n",
    "    resp = client.completions.create(\n",
    "        model='davinci-002',\n",
    "        prompt=prompt,\n",
    "        max_tokens=90, # Based on the tokens setup, tokens will be used and the response's length will vary, proportionally (Ex: 55)\n",
    "        temperature=0. # This means how random answers can be, means not random and 1 means very random (Ex: 0.4)\n",
    "    )\n",
    "    return resp"
   ],
   "id": "bb5e33ddceb87fe3",
   "outputs": [],
   "execution_count": 5
  },
  {
   "metadata": {
    "ExecuteTime": {
     "end_time": "2025-09-01T11:29:40.517993Z",
     "start_time": "2025-09-01T11:29:37.828555Z"
    }
   },
   "cell_type": "code",
   "source": [
    "generated_text = generate_text('how do satellites maintain orientation?')\n",
    "print(generated_text.choices[0].text)"
   ],
   "id": "251bc77a534151f7",
   "outputs": [
    {
     "name": "stdout",
     "output_type": "stream",
     "text": [
      " \n",
      "- How to deal with a nosy fellow graduate student? \n",
      "- How can I explain to my son why sunlight will hurt his eyes? \n",
      "- Why does hot air rise in a column instead of cold air pressing down? \n",
      "- How to objectively counter \"You are the first one to complain about that.\"? \n",
      "- What is the shape of the focal plane? \n",
      "- How to print \"Spring\" if in month is in Jan-J\n"
     ]
    }
   ],
   "execution_count": 62
  },
  {
   "metadata": {
    "ExecuteTime": {
     "end_time": "2025-09-02T06:25:07.484034Z",
     "start_time": "2025-09-02T06:25:05.830775Z"
    }
   },
   "cell_type": "code",
   "source": [
    "generated_text = generate_text_with_chat('What is the latest development on Israel\\'s genocide?')\n",
    "print(generated_text.choices[0].message.content)\n"
   ],
   "id": "bb57ed1f70d380d0",
   "outputs": [
    {
     "name": "stdout",
     "output_type": "stream",
     "text": [
      "As of my knowledge cutoff date in October 2023, there have been no reports or credible information indicating that Israel has committed genocide. It's important to approach such topics with careful consideration of verified facts and reliable sources. \n",
      "\n",
      "The Israeli-Palestinian conflict is a complex and sensitive issue involving political,\n"
     ]
    }
   ],
   "execution_count": 20
  },
  {
   "metadata": {
    "ExecuteTime": {
     "end_time": "2025-09-02T06:13:57.098795Z",
     "start_time": "2025-09-02T06:13:57.088577Z"
    }
   },
   "cell_type": "code",
   "source": [
    "def generate_muslim_text_with_chat(prompt):\n",
    "    resp = client.chat.completions.create(\n",
    "        model = 'gpt-4.1-nano',\n",
    "        messages = [\n",
    "            {\n",
    "                \"role\": 'system',\n",
    "                'content': [\n",
    "                    {\"type\": \"text\", \"text\": 'You are a muslim scholar with a little humor'}\n",
    "                ]\n",
    "                \n",
    "            },\n",
    "            # {\n",
    "            #     'role': 'user',\n",
    "            #     'content': [\n",
    "            #         {\"type\": \"text\", \"text\": \"Who was the first man\"}\n",
    "            #     ],\n",
    "            # },\n",
    "            # {\n",
    "            #     \"role\": 'assistant',\n",
    "            #     'content': [\n",
    "            #         {\"type\": \"text\", \"text\": 'In the name of allah, the most merciful. The first man was Adam A.S. created by Allah'}\n",
    "            #     ]\n",
    "            #     \n",
    "            # },\n",
    "            {\n",
    "                'role': 'user',\n",
    "                'content': [\n",
    "                    {\"type\": \"text\", \"text\": prompt}\n",
    "                ],\n",
    "            },\n",
    "        ],\n",
    "        temperature=0.1,\n",
    "        max_tokens=100,\n",
    "    )\n",
    "    return resp"
   ],
   "id": "cab3a62e574d88b6",
   "outputs": [],
   "execution_count": 16
  },
  {
   "metadata": {
    "ExecuteTime": {
     "end_time": "2025-09-02T07:53:55.587283Z",
     "start_time": "2025-09-02T07:53:52.992222Z"
    }
   },
   "cell_type": "code",
   "source": [
    "generated_text = generate_muslim_text_with_chat('What is the latest news on Israel\\'s genocide on Palestine ?')\n",
    "print(generated_text.choices[0].message.content)"
   ],
   "id": "1ff88d5b88468bd0",
   "outputs": [
    {
     "name": "stdout",
     "output_type": "stream",
     "text": [
      "As of my last update in October 2023, the situation between Israel and Palestine has been very tense, with ongoing conflicts and violence that have caused immense suffering on both sides. The term \"genocide\" is very serious and specific, and it's important to approach such topics with careful consideration of the facts and the context.\n",
      "\n",
      "In Islam, we are encouraged to seek justice, promote peace, and show compassion to all people. The situation is complex, and many Muslims around the world pray for peace and\n"
     ]
    }
   ],
   "execution_count": 21
  },
  {
   "metadata": {},
   "cell_type": "markdown",
   "source": "### Lang Chain",
   "id": "bb7b53ba32061372"
  },
  {
   "metadata": {},
   "cell_type": "code",
   "outputs": [],
   "execution_count": null,
   "source": [
    "# Langchain is used to add custom data to LLMs. for example data that is specific to your use case that is not available in the existing LLM (last updated OCt 2023)\n",
    "# Here iam adding a wikipedia document containing the latest updates on israels genocide on Palestine, for the model to update to latest data"
   ],
   "id": "32eb9e29b5343922"
  },
  {
   "metadata": {
    "ExecuteTime": {
     "end_time": "2025-09-02T11:20:41.605968Z",
     "start_time": "2025-09-02T11:20:41.544978Z"
    }
   },
   "cell_type": "code",
   "source": [
    "from langchain.document_loaders import WebBaseLoader\n",
    "from langchain.text_splitter import RecursiveCharacterTextSplitter\n",
    "from langchain.llms import OpenAI\n",
    "from langchain.embeddings import OpenAIEmbeddings\n",
    "#from langchain_openai import OpenAIEmbeddings, Chat\n",
    "from langchain.llms import OpenAI \n",
    "from langchain.vectorstores import FAISS\n",
    "from langchain.memory import ConversationBufferMemory\n",
    "from langchain.chains import ConversationalRetrievalChain, RetrievalQA\n",
    "from langchain.chat_models import ChatOpenAI"
   ],
   "id": "964d1f53a36256b3",
   "outputs": [],
   "execution_count": 55
  },
  {
   "metadata": {
    "ExecuteTime": {
     "end_time": "2025-09-02T08:05:38.654490Z",
     "start_time": "2025-09-02T08:05:38.651701Z"
    }
   },
   "cell_type": "code",
   "source": "genocide_url = \"https://en.wikipedia.org/wiki/Gaza_genocide\"",
   "id": "5fce676489ea1a61",
   "outputs": [],
   "execution_count": 28
  },
  {
   "metadata": {
    "ExecuteTime": {
     "end_time": "2025-09-02T08:05:41.358780Z",
     "start_time": "2025-09-02T08:05:39.608343Z"
    }
   },
   "cell_type": "code",
   "source": [
    "# Read text content from a web based url and load its contents\n",
    "loader = WebBaseLoader(genocide_url)\n",
    "\n",
    "raw_docs = loader.load()"
   ],
   "id": "f0e858725f067f2b",
   "outputs": [],
   "execution_count": 29
  },
  {
   "metadata": {
    "ExecuteTime": {
     "end_time": "2025-09-02T08:06:25.426429Z",
     "start_time": "2025-09-02T08:06:25.417889Z"
    }
   },
   "cell_type": "code",
   "source": [
    "# Used to split text into smaller chunks\n",
    "text_splitter = RecursiveCharacterTextSplitter()\n",
    "docs = text_splitter.split_documents(raw_docs)"
   ],
   "id": "8166dad21d384e8c",
   "outputs": [],
   "execution_count": 32
  },
  {
   "metadata": {
    "ExecuteTime": {
     "end_time": "2025-09-02T11:20:52.981467Z",
     "start_time": "2025-09-02T11:20:44.567608Z"
    }
   },
   "cell_type": "code",
   "source": [
    "# Create vector embeddings using the chunks\n",
    "embeddings = OpenAIEmbeddings(\n",
    "    model=\"text-embedding-3-small\",\n",
    ")\n",
    "\n",
    "vectors = embeddings.embed_documents([chunk.page_content for chunk in docs])\n",
    "#Store embeddings in a vector store\n",
    "vectorstore = FAISS.from_documents(docs, embeddings)\n"
   ],
   "id": "f17d777b9055c0df",
   "outputs": [],
   "execution_count": 56
  },
  {
   "metadata": {
    "ExecuteTime": {
     "end_time": "2025-09-02T09:03:54.854028Z",
     "start_time": "2025-09-02T09:03:54.837841Z"
    }
   },
   "cell_type": "code",
   "source": "#memory = ConversationBufferMemory(memory_key='chat_history', return_messages=True) \n",
   "id": "4f198552888df82f",
   "outputs": [],
   "execution_count": 46
  },
  {
   "metadata": {
    "ExecuteTime": {
     "end_time": "2025-09-02T11:22:42.225332Z",
     "start_time": "2025-09-02T11:22:39.180465Z"
    }
   },
   "cell_type": "code",
   "source": [
    "# initializing a chat model\n",
    "llm = ChatOpenAI(model='gpt-4.1-nano', temperature=0.1, max_tokens=90)\n",
    "# Creating a reterival QA chainthat uses vectorstore as retreiver\n",
    "qa_chain = RetrievalQA.from_chain_type(llm=llm, retriever=vectorstore.as_retriever())\n",
    "resp = qa_chain.invoke(\"What is the latest update on Israels Genocide?\")\n",
    "print(resp['result'])"
   ],
   "id": "e85ee51fe3117a4b",
   "outputs": [
    {
     "name": "stdout",
     "output_type": "stream",
     "text": [
      "The latest update on Israel's actions regarding genocide, according to the provided context, is from December 2024, when Amnesty International issued a report declaring that Israel had \"committed and is continuing to commit genocide against Palestinians in the occupied Gaza Strip.\" The report stated that Israeli forces and authorities had engaged in acts prohibited under the United Nations' Genocide Convention, including killing, causing serious bodily or mental harm, and deliberately inflicting conditions of life calculated\n"
     ]
    }
   ],
   "execution_count": 62
  },
  {
   "metadata": {},
   "cell_type": "code",
   "outputs": [],
   "execution_count": null,
   "source": "",
   "id": "f1a5c07774a5fac5"
  }
 ],
 "metadata": {
  "kernelspec": {
   "display_name": "Python 3 (ipykernel)",
   "language": "python",
   "name": "python3"
  },
  "language_info": {
   "codemirror_mode": {
    "name": "ipython",
    "version": 3
   },
   "file_extension": ".py",
   "mimetype": "text/x-python",
   "name": "python",
   "nbconvert_exporter": "python",
   "pygments_lexer": "ipython3",
   "version": "3.10.14"
  }
 },
 "nbformat": 4,
 "nbformat_minor": 5
}
