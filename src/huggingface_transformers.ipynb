{
 "cells": [
  {
   "metadata": {},
   "cell_type": "raw",
   "source": "",
   "id": "db7b135d9513f1ed"
  },
  {
   "metadata": {},
   "cell_type": "markdown",
   "source": "### Using Hugging-face using transformers",
   "id": "7472e80d94a3fb9a"
  },
  {
   "metadata": {
    "ExecuteTime": {
     "end_time": "2025-09-04T09:16:51.433505Z",
     "start_time": "2025-09-04T09:16:51.426945Z"
    }
   },
   "cell_type": "code",
   "source": "from transformers import pipeline, AutoTokenizer, AutoModelForTokenClassification",
   "id": "71db5fb43aae9e76",
   "outputs": [],
   "execution_count": 13
  },
  {
   "metadata": {
    "ExecuteTime": {
     "end_time": "2025-09-04T07:42:37.914900Z",
     "start_time": "2025-09-04T07:41:45.591818Z"
    }
   },
   "cell_type": "code",
   "source": [
    "sentiment_classifier = pipeline('sentiment-analysis')\n",
    "results = sentiment_classifier([\"mary had a little lamb which followed her to school everyday. It was a nuisance\"])\n",
    "print(results)"
   ],
   "id": "57815cf19763b841",
   "outputs": [
    {
     "name": "stderr",
     "output_type": "stream",
     "text": [
      "No model was supplied, defaulted to distilbert/distilbert-base-uncased-finetuned-sst-2-english and revision 714eb0f (https://huggingface.co/distilbert/distilbert-base-uncased-finetuned-sst-2-english).\n",
      "Using a pipeline without specifying a model name and revision in production is not recommended.\n"
     ]
    },
    {
     "data": {
      "text/plain": [
       "model.safetensors:   0%|          | 0.00/268M [00:00<?, ?B/s]"
      ],
      "application/vnd.jupyter.widget-view+json": {
       "version_major": 2,
       "version_minor": 0,
       "model_id": "28949bbd63234567b10e5a8dbb392c97"
      }
     },
     "metadata": {},
     "output_type": "display_data"
    },
    {
     "data": {
      "text/plain": [
       "tokenizer_config.json:   0%|          | 0.00/48.0 [00:00<?, ?B/s]"
      ],
      "application/vnd.jupyter.widget-view+json": {
       "version_major": 2,
       "version_minor": 0,
       "model_id": "948bba32fb27489aafc9fe74363dd660"
      }
     },
     "metadata": {},
     "output_type": "display_data"
    },
    {
     "data": {
      "text/plain": [
       "vocab.txt: 0.00B [00:00, ?B/s]"
      ],
      "application/vnd.jupyter.widget-view+json": {
       "version_major": 2,
       "version_minor": 0,
       "model_id": "5d8f3ca04e864b988acb563b3c088d8c"
      }
     },
     "metadata": {},
     "output_type": "display_data"
    },
    {
     "name": "stderr",
     "output_type": "stream",
     "text": [
      "Device set to use mps:0\n"
     ]
    },
    {
     "name": "stdout",
     "output_type": "stream",
     "text": [
      "[{'label': 'NEGATIVE', 'score': 0.992002010345459}]\n"
     ]
    }
   ],
   "execution_count": 2
  },
  {
   "metadata": {},
   "cell_type": "code",
   "source": [
    "# Check each model and its implementation to get its available prameters and how to use it\n",
    "tokenizer = AutoTokenizer.from_pretrained('dslim/bert-large-NER')\n",
    "model = AutoModelForTokenClassification.from_pretrained('dslim/bert-large-NER')\n",
    "custom_analyzer = pipeline('ner', model=model, tokenizer=tokenizer)\n",
    "results = custom_analyzer(\"mary had a little lamb which followed her to school everyday. It was a nuisance\")\n",
    "print(results)"
   ],
   "id": "49b4c2e49d1a401",
   "outputs": [],
   "execution_count": null
  },
  {
   "metadata": {
    "ExecuteTime": {
     "end_time": "2025-09-04T10:17:27.881462Z",
     "start_time": "2025-09-04T10:15:14.332798Z"
    }
   },
   "cell_type": "code",
   "source": [
    "zeroshot_classifier = pipeline('zero-shot-classification', model='MoritzLaurer/deberta-v3-base-zeroshot-v1')\n",
    "labels = ['politics', 'animals', 'education']\n",
    "results = zeroshot_classifier(\"Mary had a little lamb which followed her to school everyday. It was a nuisance\", labels, multi_label=False)\n",
    "print(results)\n"
   ],
   "id": "f4b6e88b1729c083",
   "outputs": [
    {
     "name": "stderr",
     "output_type": "stream",
     "text": [
      "Device set to use mps:0\n"
     ]
    },
    {
     "name": "stdout",
     "output_type": "stream",
     "text": [
      "{'sequence': 'Mary had a little lamb which followed her to school everyday. It was a nuisance', 'labels': ['animals', 'education', 'politics'], 'scores': [0.9984616041183472, 0.0014378840569406748, 0.00010049124830402434]}\n"
     ]
    }
   ],
   "execution_count": 21
  },
  {
   "metadata": {},
   "cell_type": "markdown",
   "source": "## Pre-Trained Tokenizers",
   "id": "e24415859cb7fbd1"
  },
  {
   "metadata": {
    "ExecuteTime": {
     "end_time": "2025-09-10T06:51:35.045468Z",
     "start_time": "2025-09-10T06:51:30.701361Z"
    }
   },
   "cell_type": "code",
   "source": [
    "from transformers import AutoTokenizer\n",
    "model = \"bert-base-uncased\"  # a type of tokenizer model. We wil be using another model later"
   ],
   "id": "fe5cd6e91ae838bb",
   "outputs": [],
   "execution_count": 1
  },
  {
   "metadata": {
    "ExecuteTime": {
     "end_time": "2025-09-10T06:51:59.849882Z",
     "start_time": "2025-09-10T06:51:45.154586Z"
    }
   },
   "cell_type": "code",
   "source": "tokenizer = AutoTokenizer.from_pretrained(model)",
   "id": "e7366be5cf617ab9",
   "outputs": [
    {
     "data": {
      "text/plain": [
       "tokenizer_config.json:   0%|          | 0.00/48.0 [00:00<?, ?B/s]"
      ],
      "application/vnd.jupyter.widget-view+json": {
       "version_major": 2,
       "version_minor": 0,
       "model_id": "ece802d1704b454ca0cbf55afb8f8e9f"
      }
     },
     "metadata": {},
     "output_type": "display_data"
    },
    {
     "data": {
      "text/plain": [
       "config.json:   0%|          | 0.00/570 [00:00<?, ?B/s]"
      ],
      "application/vnd.jupyter.widget-view+json": {
       "version_major": 2,
       "version_minor": 0,
       "model_id": "5bfc88c37bbd424cacc97075501007ad"
      }
     },
     "metadata": {},
     "output_type": "display_data"
    },
    {
     "data": {
      "text/plain": [
       "tokenizer.json:   0%|          | 0.00/466k [00:00<?, ?B/s]"
      ],
      "application/vnd.jupyter.widget-view+json": {
       "version_major": 2,
       "version_minor": 0,
       "model_id": "b8b05e5dd64c40bbae970b60b529001d"
      }
     },
     "metadata": {},
     "output_type": "display_data"
    }
   ],
   "execution_count": 2
  },
  {
   "metadata": {
    "ExecuteTime": {
     "end_time": "2025-09-10T07:28:05.546583Z",
     "start_time": "2025-09-10T07:28:05.542957Z"
    }
   },
   "cell_type": "code",
   "source": "sent = \"I am very sad to hear about the children suffering from mumps.\"",
   "id": "f9a4ee232eabbac",
   "outputs": [],
   "execution_count": 31
  },
  {
   "metadata": {
    "ExecuteTime": {
     "end_time": "2025-09-10T07:28:06.486390Z",
     "start_time": "2025-09-10T07:28:06.474303Z"
    }
   },
   "cell_type": "code",
   "source": [
    "input_ids = tokenizer(sent) # Tokenizes (turns words into numbered tokens\n",
    "print(input_ids)"
   ],
   "id": "78ab7a3f910ff888",
   "outputs": [
    {
     "name": "stdout",
     "output_type": "stream",
     "text": [
      "{'input_ids': [101, 1045, 2572, 2200, 6517, 2000, 2963, 2055, 1996, 2336, 6114, 2013, 12954, 4523, 102], 'token_type_ids': [0, 0, 0, 0, 0, 0, 0, 0, 0, 0, 0, 0, 0, 0, 0], 'attention_mask': [1, 1, 1, 1, 1, 1, 1, 1, 1, 1, 1, 1, 1, 1, 1]}\n"
     ]
    }
   ],
   "execution_count": 32
  },
  {
   "metadata": {
    "ExecuteTime": {
     "end_time": "2025-09-10T07:28:07.212187Z",
     "start_time": "2025-09-10T07:28:07.199760Z"
    }
   },
   "cell_type": "code",
   "source": [
    "# Below we are going one step-by-step\n",
    "# 1. converting sentence to a list of tokens\n",
    "tokens = tokenizer.tokenize(sent)\n",
    "print(tokens)"
   ],
   "id": "cba12e791a99e0e5",
   "outputs": [
    {
     "name": "stdout",
     "output_type": "stream",
     "text": [
      "['i', 'am', 'very', 'sad', 'to', 'hear', 'about', 'the', 'children', 'suffering', 'from', 'mum', '##ps']\n"
     ]
    }
   ],
   "execution_count": 33
  },
  {
   "metadata": {
    "ExecuteTime": {
     "end_time": "2025-09-10T07:28:08.535703Z",
     "start_time": "2025-09-10T07:28:08.532584Z"
    }
   },
   "cell_type": "code",
   "source": [
    "#2. Give ids to tokens . note the length is same\n",
    "token_ids = tokenizer.convert_tokens_to_ids(tokens)\n",
    "print(token_ids)"
   ],
   "id": "25696bd286aaeb0d",
   "outputs": [
    {
     "name": "stdout",
     "output_type": "stream",
     "text": [
      "[1045, 2572, 2200, 6517, 2000, 2963, 2055, 1996, 2336, 6114, 2013, 12954, 4523]\n"
     ]
    }
   ],
   "execution_count": 34
  },
  {
   "metadata": {
    "ExecuteTime": {
     "end_time": "2025-09-10T07:17:45.123010Z",
     "start_time": "2025-09-10T07:17:45.118024Z"
    }
   },
   "cell_type": "code",
   "source": [
    "# Decoding for verification \n",
    "print(tokenizer.decode(2336))"
   ],
   "id": "741d5f75c9fe4ca5",
   "outputs": [
    {
     "name": "stdout",
     "output_type": "stream",
     "text": [
      "children\n"
     ]
    }
   ],
   "execution_count": 13
  },
  {
   "metadata": {
    "ExecuteTime": {
     "end_time": "2025-09-10T07:19:22.679204Z",
     "start_time": "2025-09-10T07:19:22.674316Z"
    }
   },
   "cell_type": "code",
   "source": [
    "# Decoding a special token. These are special tokens that the tokenizer understands\n",
    "print(tokenizer.decode(101))"
   ],
   "id": "4fc8466beb2ac7a1",
   "outputs": [
    {
     "name": "stdout",
     "output_type": "stream",
     "text": [
      "[CLS]\n"
     ]
    }
   ],
   "execution_count": 21
  },
  {
   "metadata": {
    "ExecuteTime": {
     "end_time": "2025-09-10T07:23:12.923589Z",
     "start_time": "2025-09-10T07:22:55.396433Z"
    }
   },
   "cell_type": "code",
   "source": [
    "model2 = \"xlnet-base-cased\"\n",
    "tokenizer2 = AutoTokenizer.from_pretrained(model2)"
   ],
   "id": "53012d5402c72fcc",
   "outputs": [
    {
     "data": {
      "text/plain": [
       "config.json:   0%|          | 0.00/760 [00:00<?, ?B/s]"
      ],
      "application/vnd.jupyter.widget-view+json": {
       "version_major": 2,
       "version_minor": 0,
       "model_id": "dc7e763da22b49518231ae2753aa1cdd"
      }
     },
     "metadata": {},
     "output_type": "display_data"
    },
    {
     "data": {
      "text/plain": [
       "spiece.model:   0%|          | 0.00/798k [00:00<?, ?B/s]"
      ],
      "application/vnd.jupyter.widget-view+json": {
       "version_major": 2,
       "version_minor": 0,
       "model_id": "d9bd9f50c25f4be3850d8e4a753baabe"
      }
     },
     "metadata": {},
     "output_type": "display_data"
    },
    {
     "data": {
      "text/plain": [
       "tokenizer.json:   0%|          | 0.00/1.38M [00:00<?, ?B/s]"
      ],
      "application/vnd.jupyter.widget-view+json": {
       "version_major": 2,
       "version_minor": 0,
       "model_id": "2aec74945beb488ea4a260e83661f07b"
      }
     },
     "metadata": {},
     "output_type": "display_data"
    }
   ],
   "execution_count": 22
  },
  {
   "metadata": {
    "ExecuteTime": {
     "end_time": "2025-09-10T07:23:16.769080Z",
     "start_time": "2025-09-10T07:23:16.763729Z"
    }
   },
   "cell_type": "code",
   "source": [
    "input_ids = tokenizer2(sent)\n",
    "print(input_ids)  "
   ],
   "id": "cd8995b3dfe1db1b",
   "outputs": [
    {
     "name": "stdout",
     "output_type": "stream",
     "text": [
      "{'input_ids': [35, 569, 172, 5694, 22, 1388, 75, 18, 341, 3545, 40, 14695, 3716, 9, 4, 3], 'token_type_ids': [0, 0, 0, 0, 0, 0, 0, 0, 0, 0, 0, 0, 0, 0, 0, 2], 'attention_mask': [1, 1, 1, 1, 1, 1, 1, 1, 1, 1, 1, 1, 1, 1, 1, 1]}\n"
     ]
    }
   ],
   "execution_count": 24
  },
  {
   "metadata": {
    "ExecuteTime": {
     "end_time": "2025-09-10T07:24:19.799645Z",
     "start_time": "2025-09-10T07:24:19.790926Z"
    }
   },
   "cell_type": "code",
   "source": [
    "# breaking down\n",
    "tokenizer2 = tokenizer2.tokenize(sent)\n",
    "print(tokens)"
   ],
   "id": "ac254cc2fd3fd776",
   "outputs": [
    {
     "name": "stdout",
     "output_type": "stream",
     "text": [
      "['▁I', '▁am', '▁very', '▁sad', '▁to', '▁hear', '▁about', '▁the', '▁children', '▁suffering', '▁from', '▁mum', 'ps', '.']\n"
     ]
    }
   ],
   "execution_count": 26
  },
  {
   "metadata": {
    "ExecuteTime": {
     "end_time": "2025-09-10T07:24:59.610019Z",
     "start_time": "2025-09-10T07:24:59.604460Z"
    }
   },
   "cell_type": "code",
   "source": [
    "token_ids = tokenizer2.convert_tokens_to_ids(tokens)\n",
    "print(token_ids) # notice the ids are different"
   ],
   "id": "9b538e78e49e8879",
   "outputs": [
    {
     "name": "stdout",
     "output_type": "stream",
     "text": [
      "[35, 569, 172, 5694, 22, 1388, 75, 18, 341, 3545, 40, 14695, 3716, 9]\n"
     ]
    }
   ],
   "execution_count": 28
  },
  {
   "metadata": {
    "ExecuteTime": {
     "end_time": "2025-09-10T07:27:48.440880Z",
     "start_time": "2025-09-10T07:27:48.436480Z"
    }
   },
   "cell_type": "code",
   "source": [
    "# decoding\n",
    "print(tokenizer2.decode(14695))"
   ],
   "id": "9e069c9482fba5f2",
   "outputs": [
    {
     "name": "stdout",
     "output_type": "stream",
     "text": [
      "mum\n"
     ]
    }
   ],
   "execution_count": 30
  },
  {
   "metadata": {
    "ExecuteTime": {
     "end_time": "2025-09-10T07:28:50.572781Z",
     "start_time": "2025-09-10T07:28:50.568012Z"
    }
   },
   "cell_type": "code",
   "source": [
    "# Special tokens\n",
    "print(tokenizer2.decode(4))  # the ids for special tokens are different here"
   ],
   "id": "f2fe354d787456d8",
   "outputs": [
    {
     "name": "stdout",
     "output_type": "stream",
     "text": [
      "<sep>\n"
     ]
    }
   ],
   "execution_count": 37
  },
  {
   "metadata": {},
   "cell_type": "code",
   "outputs": [],
   "execution_count": null,
   "source": "",
   "id": "87c68657e718c7b2"
  }
 ],
 "metadata": {
  "kernelspec": {
   "display_name": "Python 3",
   "language": "python",
   "name": "python3"
  },
  "language_info": {
   "codemirror_mode": {
    "name": "ipython",
    "version": 2
   },
   "file_extension": ".py",
   "mimetype": "text/x-python",
   "name": "python",
   "nbconvert_exporter": "python",
   "pygments_lexer": "ipython2",
   "version": "2.7.6"
  }
 },
 "nbformat": 4,
 "nbformat_minor": 5
}
